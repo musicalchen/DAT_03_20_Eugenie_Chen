{
 "cells": [
  {
   "cell_type": "markdown",
   "metadata": {},
   "source": [
    "# Project Design Writeup"
   ]
  },
  {
   "cell_type": "markdown",
   "metadata": {},
   "source": [
    "### Project Problem and Hypothesis"
   ]
  },
  {
   "cell_type": "markdown",
   "metadata": {},
   "source": [
    "In online advertising, such as paid search and display, many advertisers have switched from a cost-per-impression (CPM) model to performance dependent pricing models, such as cost-per-click (CPC) and cost-per-conversion (CPA). Performance dependent models allow advertisers to reduce risk by pre-defining what actions they are willing to pay for. \n",
    "\n",
    "From an ad-serving perspective, it is crucial to accurately estimate the probablity of how likely an impression will lead to a pre-defined action in order to maximize revenue and efficiency. \n",
    "\n",
    "There has been a lot of machine learning work focusing on predicting online conversions. (See [here](https://research.google.com/pubs/pub41159.html) for details). However, little attention has been paid to predicting offline conversions such as store visits. \n",
    "\n",
    "Vistar Media, the company I work for, built the first programmatic platform for digital out-of-home media and houses over 90 percent of digital out-of-home inventory in the United States. Given that out-of-home is a medium that reaches consumers in the physical world, store visit rate is an important metric for evaluating the ROI of out-of-home campaigns. \n",
    "\n",
    "The objective of this project is to build a response prediction model for digital out-of-home media that can facilitate RTB (real-time bidding) based on CPA using store visit as a proxy for predicting conversions. \n",
    "\n",
    "Based on the available literature on predicting online conversions, I think that user features, such as demographic and income level when available, and context features, such as where and when a user sees an ad, will have the most impact on predicting offline conversions or store visits. (See [here]( http://people.csail.mit.edu/romer/papers/TISTRespPredAds.pdf) for reference). "
   ]
  },
  {
   "cell_type": "markdown",
   "metadata": {},
   "source": [
    "### Datasets"
   ]
  },
  {
   "cell_type": "markdown",
   "metadata": {},
   "source": [
    "DOOH Ad Logs\n",
    "\n",
    "Variable | Description | Type of Variable\n",
    "---| ---| ---\n",
    "advertiser_id | unique identifier of the advertiser | categorical\n",
    "timestamp | time of ad play; need to be converted into time of day and day of week | categorical\n",
    "lease_creative_id | unique identifier of the creative served | categorical \n",
    "lease_dma | the DMA/market where the ad was served | categorical\n",
    "lease_network_id | the network / contextual environment where the ad was served, such as gyms, malls, transit | categorical\n",
    "lease_latitude | latitude of the DOOH screen; could be turned into a continuous variable by calculating the distance between the DOOH screen and the nearest store location |  categorical\n",
    "lease_longitude | longitude of the DOOH screen; could be turned into a continuous value by calculating the distance between the DOOH screen and the nearest store location |  categorical\n",
    "lease_zip | zip code of the DOOH screen | categorical\n",
    "lease_campaign_id | unique identifier of the ad campaign | categorical\n",
    "lease_venue_id | unique identifier of the DOOH screen | categorical"
   ]
  },
  {
   "cell_type": "markdown",
   "metadata": {},
   "source": [
    "Exposure to Conversion Table\n",
    "\n",
    "Variable | Description | Type of Variable\n",
    "---| ---| ---\n",
    "user_id | unique identifier of the user | categorical\n",
    "timestamp | time of ad exposure, need to be converted into time of day and day of week | categorical \n",
    "duration | length of stay in front of a screen | continuous\n",
    "venue_latitude | latitude of the DOOH screen | categorical\n",
    "venue_longitude | longitude of the DOOH screen | categorical\n",
    "user_zipcode | zip code of user's home location | categorical\n",
    "user_city | city of user's home location | categorical\n",
    "user_state | state of user's home location | categorical\n",
    "conversion | whether the user visits a store post exposure or not | categorical"
   ]
  },
  {
   "cell_type": "markdown",
   "metadata": {},
   "source": [
    "### Domain knowledge"
   ]
  },
  {
   "cell_type": "markdown",
   "metadata": {},
   "source": [
    "I have been conducting attribution studies at Vistar Media for nearly two years now, and I'm also familiar with the space of location-based media in general. \n",
    "\n",
    "We have not built any in-house prediction models, but similar work has been done for online media in recent years. The two papers I linked in the first section of this workbook have a lot of good information on the topic. \n",
    "\n",
    "Here is a sample output/benchmark table on feature importance from [this paper](http://people.csail.mit.edu/romer/papers/TISTRespPredAds.pdf): \n",
    "\n",
    "\n",
    "Single feature | SMI (bits)\n",
    "---| ---| ---\n",
    "event guid | 0.59742\n",
    "query string | 0.59479\n",
    "xcookie | 0.49983\n",
    "user identifier | 0.49842\n",
    "user segments | 0.43032\n",
    "\n",
    "Single feature | RMI (bits)\n",
    "---| ---| ---\n",
    "section id | 0.20747\n",
    "creative id | 0.20645\n",
    "site | 0.19835\n",
    "campaign id | 0.19142\n",
    "rm ad grp id | 0.19094\n",
    "\n",
    "Conjunction feature | RMI (bits)\n",
    "---| ---| ---\n",
    "section id x advertiser id | 0.24691\n",
    "section id x creative id | 0.24317\n",
    "section id x IO id | 0.24307\n",
    "creative id x publisher id | 0.24250\n",
    "creative id x site | 0.24246\n",
    "site x advertiser id | 0.24234\n",
    "section id x pixeloffers | 0.24172\n",
    "site x IO id | 0.23953\n",
    "publisher id x advertiser id | 0.23903"
   ]
  },
  {
   "cell_type": "markdown",
   "metadata": {},
   "source": [
    "### Project Concerns"
   ]
  },
  {
   "cell_type": "markdown",
   "metadata": {},
   "source": [
    "The major concern I have is around the repeatability of the project. Since every ad campaign has its own unique attributes that are different from other ad campaigns, such as advertiser, user_id, creative_id, etc., we are missing feedback features in our model that might play a huge part in accurately predicting the dependent variable. \n",
    "\n",
    "We also don't have that many user features, such as demographic information, which could potentially generate relatively large correlation coefficients. \n",
    "\n",
    "In addition, this model might not be representative of the U.S. population, given that data primarly comes from consumers who opt in to have their location tracked passively via GPS. \n",
    "\n",
    "In terms of the accuracy of source data, validating whether a user actually visited a store after seeing an ad on a digital out-of-home screen is also a challenge, especially in crowded urban neighborhoods. \n",
    "\n",
    "However, no matter how accurately the model's output is, this project will serve as a good starting point for driving efficiency on programmatic out-of-home transactions. We'll keep tuning and improving the model to make it as close to reality as possible."
   ]
  },
  {
   "cell_type": "markdown",
   "metadata": {},
   "source": [
    "### Outcomes"
   ]
  },
  {
   "cell_type": "markdown",
   "metadata": {},
   "source": [
    "Since I plan to use a logistic regression model for the project, I expect the outcomes to include the following metrics: recall, precision, AUC, and accuracy for model evaluation; coefficients and feature importances for feature evaluation and selection. L1 and L2 regularization will also be used to avoid over-fitting. I don't expect my model to be very complicated given that the model is expected to be used in a production setting later. \n",
    "\n",
    "To consider the project a success, I think my AUC score should stay above 0.75 and the most important features, ideally fewer than 20 features, should be able to provide a good prediction of the dependent variable."
   ]
  }
 ],
 "metadata": {
  "kernelspec": {
   "display_name": "Python 2",
   "language": "python",
   "name": "python2"
  },
  "language_info": {
   "codemirror_mode": {
    "name": "ipython",
    "version": 2
   },
   "file_extension": ".py",
   "mimetype": "text/x-python",
   "name": "python",
   "nbconvert_exporter": "python",
   "pygments_lexer": "ipython2",
   "version": "2.7.13"
  }
 },
 "nbformat": 4,
 "nbformat_minor": 2
}
